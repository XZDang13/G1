{
 "cells": [
  {
   "cell_type": "code",
   "execution_count": 15,
   "id": "ca5bd61c",
   "metadata": {},
   "outputs": [],
   "source": [
    "from typing import List\n",
    "import numpy as np\n",
    "\n",
    "mujoco_order = [\n",
    "    'left_hip_pitch_joint', 'left_hip_roll_joint', 'left_hip_yaw_joint',\n",
    "    'left_knee_joint', 'left_ankle_pitch_joint', 'left_ankle_roll_joint',\n",
    "    'right_hip_pitch_joint', 'right_hip_roll_joint', 'right_hip_yaw_joint',\n",
    "    'right_knee_joint', 'right_ankle_pitch_joint', 'right_ankle_roll_joint',\n",
    "    'waist_yaw_joint', 'left_shoulder_pitch_joint', 'left_shoulder_roll_joint',\n",
    "    'left_shoulder_yaw_joint', 'left_elbow_joint', 'left_wrist_roll_joint',\n",
    "    'right_shoulder_pitch_joint', 'right_shoulder_roll_joint', 'right_shoulder_yaw_joint',\n",
    "    'right_elbow_joint', 'right_wrist_roll_joint',\n",
    "]\n",
    "\n",
    "isaac_order = [\n",
    "    'left_hip_pitch_joint', 'right_hip_pitch_joint', 'waist_yaw_joint',\n",
    "    'left_hip_roll_joint', 'right_hip_roll_joint', 'left_shoulder_pitch_joint',\n",
    "    'right_shoulder_pitch_joint', 'left_hip_yaw_joint', 'right_hip_yaw_joint',\n",
    "    'left_shoulder_roll_joint', 'right_shoulder_roll_joint', 'left_knee_joint',\n",
    "    'right_knee_joint', 'left_shoulder_yaw_joint', 'right_shoulder_yaw_joint',\n",
    "    'left_ankle_pitch_joint', 'right_ankle_pitch_joint', 'left_elbow_joint',\n",
    "    'right_elbow_joint', 'left_ankle_roll_joint', 'right_ankle_roll_joint',\n",
    "    'left_wrist_roll_joint', 'right_wrist_roll_joint',\n",
    "]\n",
    "\n",
    "# Create index maps\n",
    "mujoco_to_isaac_idx = [mujoco_order.index(name) for name in isaac_order]\n",
    "isaac_to_mujoco_idx = [isaac_order.index(name) for name in mujoco_order]\n",
    "\n",
    "def reorder_from_mujoco_to_isaac(values: List[float] | np.ndarray) -> np.ndarray:\n",
    "    values = np.array(values)\n",
    "    return values[mujoco_to_isaac_idx]\n",
    "\n",
    "def reorder_from_isaac_to_mujoco(values: List[float] | np.ndarray) -> np.ndarray:\n",
    "    values = np.array(values)\n",
    "    return values[isaac_to_mujoco_idx]"
   ]
  },
  {
   "cell_type": "code",
   "execution_count": 16,
   "id": "d4b4d8de",
   "metadata": {},
   "outputs": [
    {
     "name": "stdout",
     "output_type": "stream",
     "text": [
      "Isaac ordered: [ 0  6 12  1  7 13 18  2  8 14 19  3  9 15 20  4 10 16 21  5 11 17 22]\n",
      "Back to MuJoCo order: [ 0  1  2  3  4  5  6  7  8  9 10 11 12 13 14 15 16 17 18 19 20 21 22]\n"
     ]
    }
   ],
   "source": [
    "mujoco_vals = np.arange(23)  # Assume joint values are [0, 1, 2, ..., 22]\n",
    "isaac_vals = reorder_from_mujoco_to_isaac(mujoco_vals)\n",
    "print(\"Isaac ordered:\", isaac_vals)\n",
    "\n",
    "restored_vals = reorder_from_isaac_to_mujoco(isaac_vals)\n",
    "print(\"Back to MuJoCo order:\", restored_vals)"
   ]
  },
  {
   "cell_type": "code",
   "execution_count": 18,
   "id": "eff6693d",
   "metadata": {},
   "outputs": [
    {
     "data": {
      "text/plain": [
       "[0,\n",
       " 3,\n",
       " 7,\n",
       " 11,\n",
       " 15,\n",
       " 19,\n",
       " 1,\n",
       " 4,\n",
       " 8,\n",
       " 12,\n",
       " 16,\n",
       " 20,\n",
       " 2,\n",
       " 5,\n",
       " 9,\n",
       " 13,\n",
       " 17,\n",
       " 21,\n",
       " 6,\n",
       " 10,\n",
       " 14,\n",
       " 18,\n",
       " 22]"
      ]
     },
     "execution_count": 18,
     "metadata": {},
     "output_type": "execute_result"
    }
   ],
   "source": [
    "isaac_to_mujoco_idx"
   ]
  },
  {
   "cell_type": "code",
   "execution_count": null,
   "id": "d7c8302d",
   "metadata": {},
   "outputs": [],
   "source": []
  }
 ],
 "metadata": {
  "kernelspec": {
   "display_name": "isaaclab",
   "language": "python",
   "name": "python3"
  },
  "language_info": {
   "codemirror_mode": {
    "name": "ipython",
    "version": 3
   },
   "file_extension": ".py",
   "mimetype": "text/x-python",
   "name": "python",
   "nbconvert_exporter": "python",
   "pygments_lexer": "ipython3",
   "version": "3.10.18"
  }
 },
 "nbformat": 4,
 "nbformat_minor": 5
}
